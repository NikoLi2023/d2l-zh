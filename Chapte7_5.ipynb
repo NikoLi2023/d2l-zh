{
 "cells": [
  {
   "cell_type": "code",
   "execution_count": 4,
   "metadata": {},
   "outputs": [],
   "source": [
    "import torch\n",
    "from torch import nn\n",
    "from d2l import torch as d2l"
   ]
  },
  {
   "cell_type": "code",
   "execution_count": 12,
   "metadata": {},
   "outputs": [],
   "source": [
    "def batch_norm(X, gamma, beta, moving_mean, moving_var, eps, momentum):\n",
    "    if not torch.is_grad_enabled(): #如果是预测模式，这为False\n",
    "        X_hat=(X-moving_mean)/torch.sqrt(moving_var+eps)\n",
    "    else:\n",
    "        #分来那种情况讨论，如果X是全连接层，len(X)==2 ,如果作用于卷积层在非线性函数之前，这len(X)==4;\n",
    "        assert len(X) in (2,4)\n",
    "        if len(X)==2:\n",
    "            mean=torch.mean(X,dim=0,keepdim=True)\n",
    "            var=((X-mean)**2).mean(dim=0)\n",
    "            \n",
    "        else:\n",
    "            mean=torch.mean(X,dim=(0,2,3),keepdim=True)\n",
    "            var=((X-mean)**2).mean(dim=(0,2,3),keepdim=True)\n",
    "        \n",
    "        X_hat=(X-mean)/torch.sqrt(var+eps)\n",
    "             # 更新移动平均的均值和方差\n",
    "        moving_mean = momentum * moving_mean + (1.0 - momentum) * mean\n",
    "        moving_var = momentum * moving_var + (1.0 - momentum) * var\n",
    "    Y = gamma * X_hat + beta  # 缩放和移位\n",
    "    return Y, moving_mean.data, moving_var.data"
   ]
  },
  {
   "cell_type": "code",
   "execution_count": 13,
   "metadata": {},
   "outputs": [],
   "source": [
    "class BatchNorm(nn.Module):\n",
    "    def __init__(self,numfeature,numdim):\n",
    "        super().__init__()\n",
    "        if(numdim==2): #定义Gammma，eps,Moving Mean,Moving variance\n",
    "            shape=(1,numfeature)\n",
    "        else:\n",
    "            shape=(1,numfeature,1,1)\n",
    "        self.gamma=nn.parameter(torch.ones(shape))\n",
    "        self.beta=nn.parameter(torch.zeros(shape))\n",
    "        self.moving_mean=torch.zeros(shape)\n",
    "        self.moving_var=torch.ones(shape)\n",
    "    def forward(self,X):\n",
    "        if self.moving_mean.device!=X.device:\n",
    "            self.moving_mean.device=self.moving_mean.to(X.device)\n",
    "            self.moving_var.device=self.moving_var.to(X.device)\n",
    "        \n",
    "        Y, self.moving_mean, self.moving_var = batch_norm(\n",
    "            X, self.gamma, self.beta, self.moving_mean,\n",
    "            self.moving_var, eps=1e-5, momentum=0.9)\n",
    "        return Y\n"
   ]
  },
  {
   "cell_type": "code",
   "execution_count": 15,
   "metadata": {},
   "outputs": [],
   "source": [
    "#Residual \n",
    "from torch.nn import functional as F\n",
    "class Residual(nn.Module):\n",
    "    def __init__(self, input_channels, num_channels,\n",
    "                 use_1x1conv=False, strides=1) -> None:\n",
    "        super().__init__()\n",
    "        self.conv1=nn.Conv2d(input_channels,num_channels,kernel_size=3,stride=strides,padding=1)\n",
    "        self.conv2=nn.Conv2d(num_channels,num_channels,kernel_size=3,padding=1,stride=strides)\n",
    "\n",
    "        if use_1x1conv:\n",
    "            self.conv3=nn.Conv2d(num_channels,num_channels,kernel_size=1,stride=strides)\n",
    "        else:\n",
    "            self.conv3=None\n",
    "        \n",
    "        self.norm1=nn.BatchNorm2d(num_channels)\n",
    "        self.norm2=nn.BatchNorm2d(num_channels)\n",
    "    def forward(self,X):\n",
    "        F1=F.relu(self.norm1(self.conv1))\n",
    "        F2=self.norm2(self.conv2(F1))\n",
    "        if self.conv3:\n",
    "            X=self.conv3(X)\n",
    "        F2+=X\n",
    "        return F.relu(F2)\n",
    "\n"
   ]
  },
  {
   "cell_type": "code",
   "execution_count": 16,
   "metadata": {},
   "outputs": [],
   "source": [
    "#定义一个ResNet\n",
    "b1=nn.Sequential(nn.Conv2d(1,64,kernel_size=7,padding=3,stride=2),nn.BatchNorm2d(64),nn.MaxPool2d(kernel_size=3,padding=1))"
   ]
  },
  {
   "cell_type": "code",
   "execution_count": 17,
   "metadata": {},
   "outputs": [],
   "source": [
    "def resnet_block(input_channels,num_channels,num_residuals,isFirstBlock):\n",
    "    block=[]\n",
    "    for i in range(num_residuals):\n",
    "        if i==0 and not isFirstBlock:\n",
    "            block.append(Residual(input_channels,num_channels,True,strides=2))\n",
    "        else:\n",
    "            block.append(Residual(num_channels,num_channels))\n",
    "    return block"
   ]
  },
  {
   "cell_type": "code",
   "execution_count": 20,
   "metadata": {},
   "outputs": [
    {
     "ename": "TypeError",
     "evalue": "resnet_block() missing 2 required positional arguments: 'num_residuals' and 'isFirstBlock'",
     "output_type": "error",
     "traceback": [
      "\u001b[0;31m---------------------------------------------------------------------------\u001b[0m",
      "\u001b[0;31mTypeError\u001b[0m                                 Traceback (most recent call last)",
      "\u001b[1;32m/Users/jackie/Desktop/Repository/d2l-zh/Chapte7_5.ipynb 单元格 7\u001b[0m line \u001b[0;36m1\n\u001b[0;32m----> <a href='vscode-notebook-cell:/Users/jackie/Desktop/Repository/d2l-zh/Chapte7_5.ipynb#X12sZmlsZQ%3D%3D?line=0'>1</a>\u001b[0m net\u001b[39m=\u001b[39mnn\u001b[39m.\u001b[39mSequential(b1,nn\u001b[39m.\u001b[39mSequential(\u001b[39m*\u001b[39mresnet_block(\u001b[39m64\u001b[39;49m,\u001b[39m64\u001b[39;49m,\u001b[39m2\u001b[39;49m,\u001b[39mTrue\u001b[39;49;00m)),\n\u001b[1;32m      <a href='vscode-notebook-cell:/Users/jackie/Desktop/Repository/d2l-zh/Chapte7_5.ipynb#X12sZmlsZQ%3D%3D?line=1'>2</a>\u001b[0m                   nn\u001b[39m.\u001b[39mSequential(\u001b[39m*\u001b[39mresnet_block(\u001b[39m64\u001b[39m,\u001b[39m128\u001b[39m,\u001b[39m2\u001b[39m,isFirstBlock\u001b[39m=\u001b[39m\u001b[39mFalse\u001b[39;00m)),\n\u001b[1;32m      <a href='vscode-notebook-cell:/Users/jackie/Desktop/Repository/d2l-zh/Chapte7_5.ipynb#X12sZmlsZQ%3D%3D?line=2'>3</a>\u001b[0m                   nn\u001b[39m.\u001b[39mSequential(\u001b[39m*\u001b[39mresnet_block(\u001b[39m128\u001b[39m,\u001b[39m256\u001b[39m,\u001b[39m2\u001b[39m,isFirstBlock\u001b[39m=\u001b[39m\u001b[39mFalse\u001b[39;00m)),\n\u001b[1;32m      <a href='vscode-notebook-cell:/Users/jackie/Desktop/Repository/d2l-zh/Chapte7_5.ipynb#X12sZmlsZQ%3D%3D?line=3'>4</a>\u001b[0m                   nn\u001b[39m.\u001b[39mSequential(\u001b[39m*\u001b[39mresnet_block(\u001b[39m256\u001b[39m,\u001b[39m512\u001b[39m,\u001b[39m2\u001b[39m,isFirstBlock\u001b[39m=\u001b[39m\u001b[39mFalse\u001b[39;00m)),\n\u001b[1;32m      <a href='vscode-notebook-cell:/Users/jackie/Desktop/Repository/d2l-zh/Chapte7_5.ipynb#X12sZmlsZQ%3D%3D?line=4'>5</a>\u001b[0m                   nn\u001b[39m.\u001b[39mAdaptiveAvgPool2d((\u001b[39m1\u001b[39m,\u001b[39m1\u001b[39m)),nn\u001b[39m.\u001b[39mFlatten(),nn\u001b[39m.\u001b[39mLinear(\u001b[39m512\u001b[39m,\u001b[39m10\u001b[39m))\n",
      "\u001b[1;32m/Users/jackie/Desktop/Repository/d2l-zh/Chapte7_5.ipynb 单元格 7\u001b[0m line \u001b[0;36m7\n\u001b[1;32m      <a href='vscode-notebook-cell:/Users/jackie/Desktop/Repository/d2l-zh/Chapte7_5.ipynb#X12sZmlsZQ%3D%3D?line=4'>5</a>\u001b[0m         block\u001b[39m.\u001b[39mappend(Residual(input_channels,num_channels,\u001b[39mTrue\u001b[39;00m,strides\u001b[39m=\u001b[39m\u001b[39m2\u001b[39m))\n\u001b[1;32m      <a href='vscode-notebook-cell:/Users/jackie/Desktop/Repository/d2l-zh/Chapte7_5.ipynb#X12sZmlsZQ%3D%3D?line=5'>6</a>\u001b[0m     \u001b[39melse\u001b[39;00m:\n\u001b[0;32m----> <a href='vscode-notebook-cell:/Users/jackie/Desktop/Repository/d2l-zh/Chapte7_5.ipynb#X12sZmlsZQ%3D%3D?line=6'>7</a>\u001b[0m         block\u001b[39m.\u001b[39mappend(resnet_block(num_channels,num_channels))\n\u001b[1;32m      <a href='vscode-notebook-cell:/Users/jackie/Desktop/Repository/d2l-zh/Chapte7_5.ipynb#X12sZmlsZQ%3D%3D?line=7'>8</a>\u001b[0m \u001b[39mreturn\u001b[39;00m block\n",
      "\u001b[0;31mTypeError\u001b[0m: resnet_block() missing 2 required positional arguments: 'num_residuals' and 'isFirstBlock'"
     ]
    }
   ],
   "source": [
    "net=nn.Sequential(b1,nn.Sequential(*resnet_block(64,64,2,True)),\n",
    "                  nn.Sequential(*resnet_block(64,128,2,isFirstBlock=False)),\n",
    "                  nn.Sequential(*resnet_block(128,256,2,isFirstBlock=False)),\n",
    "                  nn.Sequential(*resnet_block(256,512,2,isFirstBlock=False)),\n",
    "                  nn.AdaptiveAvgPool2d((1,1)),nn.Flatten(),nn.Linear(512,10))"
   ]
  }
 ],
 "metadata": {
  "kernelspec": {
   "display_name": "Niko",
   "language": "python",
   "name": "python3"
  },
  "language_info": {
   "codemirror_mode": {
    "name": "ipython",
    "version": 3
   },
   "file_extension": ".py",
   "mimetype": "text/x-python",
   "name": "python",
   "nbconvert_exporter": "python",
   "pygments_lexer": "ipython3",
   "version": "3.11.4"
  },
  "orig_nbformat": 4
 },
 "nbformat": 4,
 "nbformat_minor": 2
}
