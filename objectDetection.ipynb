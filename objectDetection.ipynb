{
 "cells": [
  {
   "cell_type": "code",
   "execution_count": 1,
   "metadata": {},
   "outputs": [],
   "source": [
    "%matplotlib inline\n",
    "import torch\n",
    "import torchvision\n",
    "from torch import nn\n",
    "from d2l import torch as d2l"
   ]
  },
  {
   "cell_type": "code",
   "execution_count": 2,
   "metadata": {},
   "outputs": [],
   "source": [
    "#定义生成的锚框\n",
    "#@save\n",
    "def multibox_prior(data, sizes, ratios):\n",
    "    \"\"\"生成以每个像素为中心具有不同形状的锚框\"\"\"\n",
    "    in_height, in_width = data.shape[-2:]\n",
    "    device, num_sizes, num_ratios = data.device, len(sizes), len(ratios)\n",
    "    boxes_per_pixel = (num_sizes + num_ratios - 1)\n",
    "    size_tensor = torch.tensor(sizes, device=device)\n",
    "    ratio_tensor = torch.tensor(ratios, device=device)\n",
    "\n",
    "    # 为了将锚点移动到像素的中心，需要设置偏移量。\n",
    "    # 因为一个像素的高为1且宽为1，我们选择偏移我们的中心0.5\n",
    "    offset_h, offset_w = 0.5, 0.5\n",
    "    steps_h = 1.0 / in_height  # 在y轴上缩放步长\n",
    "    steps_w = 1.0 / in_width  # 在x轴上缩放步长\n",
    "\n",
    "    # 生成锚框的所有中心点\n",
    "    center_h = (torch.arange(in_height, device=device) + offset_h) * steps_h\n",
    "    center_w = (torch.arange(in_width, device=device) + offset_w) * steps_w\n",
    "    shift_y, shift_x = torch.meshgrid(center_h, center_w, indexing='ij')\n",
    "    shift_y, shift_x = shift_y.reshape(-1), shift_x.reshape(-1)\n",
    "\n",
    "    # 生成“boxes_per_pixel”个高和宽，\n",
    "    # 之后用于创建锚框的四角坐标(xmin,xmax,ymin,ymax)\n",
    "    w = torch.cat((size_tensor * torch.sqrt(ratio_tensor[0]),\n",
    "                   sizes[0] * torch.sqrt(ratio_tensor[1:])))\\\n",
    "                   * in_height / in_width  # 处理矩形输入\n",
    "    h = torch.cat((size_tensor / torch.sqrt(ratio_tensor[0]),\n",
    "                   sizes[0] / torch.sqrt(ratio_tensor[1:])))\n",
    "    # 除以2来获得半高和半宽\n",
    "    anchor_manipulations = torch.stack((-w, -h, w, h)).T.repeat(\n",
    "                                        in_height * in_width, 1) / 2\n",
    "\n",
    "    # 每个中心点都将有“boxes_per_pixel”个锚框，\n",
    "    # 所以生成含所有锚框中心的网格，重复了“boxes_per_pixel”次\n",
    "    out_grid = torch.stack([shift_x, shift_y, shift_x, shift_y],\n",
    "                dim=1).repeat_interleave(boxes_per_pixel, dim=0)\n",
    "    output = out_grid + anchor_manipulations\n",
    "    return output.unsqueeze(0)"
   ]
  },
  {
   "cell_type": "code",
   "execution_count": 3,
   "metadata": {},
   "outputs": [],
   "source": [
    "#如何显示锚框\n",
    "#@save\n",
    "def show_bboxes(axes, bboxes, labels=None, colors=None):\n",
    "    \"\"\"显示所有边界框\"\"\"\n",
    "    def _make_list(obj, default_values=None):\n",
    "        if obj is None:\n",
    "            obj = default_values\n",
    "        elif not isinstance(obj, (list, tuple)):\n",
    "            obj = [obj]\n",
    "        return obj\n",
    "\n",
    "    labels = _make_list(labels)\n",
    "    colors = _make_list(colors, ['b', 'g', 'r', 'm', 'c'])\n",
    "    for i, bbox in enumerate(bboxes):\n",
    "        color = colors[i % len(colors)]\n",
    "        rect = d2l.bbox_to_rect(bbox.detach().numpy(), color)\n",
    "        axes.add_patch(rect)\n",
    "        if labels and len(labels) > i:\n",
    "            text_color = 'k' if color == 'w' else 'w'\n",
    "            axes.text(rect.xy[0], rect.xy[1], labels[i],\n",
    "                      va='center', ha='center', fontsize=9, color=text_color,\n",
    "                      bbox=dict(facecolor=color, lw=0))"
   ]
  },
  {
   "cell_type": "markdown",
   "metadata": {},
   "source": [
    "clamp函数\n",
    "将输入的丈量夹在min,max之间"
   ]
  },
  {
   "cell_type": "code",
   "execution_count": 12,
   "metadata": {},
   "outputs": [
    {
     "name": "stdout",
     "output_type": "stream",
     "text": [
      "tensor([[[ 0,  1,  2,  3],\n",
      "         [ 4,  5,  6,  7],\n",
      "         [ 8,  9, 10, 11]]])\n",
      "tensor([[[4, 4, 4, 4],\n",
      "         [4, 5, 6, 7],\n",
      "         [7, 7, 7, 7]]])\n",
      "C:  tensor([[[0.5922, 0.9701]],\n",
      "\n",
      "        [[0.5435, 0.2092]],\n",
      "\n",
      "        [[0.7543, 0.2658]],\n",
      "\n",
      "        [[0.6739, 0.1531]],\n",
      "\n",
      "        [[0.7501, 0.8845]],\n",
      "\n",
      "        [[0.4140, 0.2682]]])\n",
      "D:  tensor([[[0.5348, 0.4766],\n",
      "         [0.6504, 0.4377],\n",
      "         [0.7617, 0.4411],\n",
      "         [0.1521, 0.4689],\n",
      "         [0.0174, 0.3193]]])\n",
      "tensor([[[0.5922, 0.9701],\n",
      "         [0.6504, 0.9701],\n",
      "         [0.7617, 0.9701],\n",
      "         [0.5922, 0.9701],\n",
      "         [0.5922, 0.9701]],\n",
      "\n",
      "        [[0.5435, 0.4766],\n",
      "         [0.6504, 0.4377],\n",
      "         [0.7617, 0.4411],\n",
      "         [0.5435, 0.4689],\n",
      "         [0.5435, 0.3193]],\n",
      "\n",
      "        [[0.7543, 0.4766],\n",
      "         [0.7543, 0.4377],\n",
      "         [0.7617, 0.4411],\n",
      "         [0.7543, 0.4689],\n",
      "         [0.7543, 0.3193]],\n",
      "\n",
      "        [[0.6739, 0.4766],\n",
      "         [0.6739, 0.4377],\n",
      "         [0.7617, 0.4411],\n",
      "         [0.6739, 0.4689],\n",
      "         [0.6739, 0.3193]],\n",
      "\n",
      "        [[0.7501, 0.8845],\n",
      "         [0.7501, 0.8845],\n",
      "         [0.7617, 0.8845],\n",
      "         [0.7501, 0.8845],\n",
      "         [0.7501, 0.8845]],\n",
      "\n",
      "        [[0.5348, 0.4766],\n",
      "         [0.6504, 0.4377],\n",
      "         [0.7617, 0.4411],\n",
      "         [0.4140, 0.4689],\n",
      "         [0.4140, 0.3193]]])\n",
      "E shape: torch.Size([6, 5, 2])\n"
     ]
    }
   ],
   "source": [
    "A=torch.arange(12).reshape(1,3,4)\n",
    "print(A)\n",
    "B=A.clamp(4,7)\n",
    "print(B)\n",
    "\n",
    "C=torch.rand(12).reshape(6,1,2)\n",
    "print(\"C: \",C)\n",
    "\n",
    "D=torch.rand(10).reshape(1,5,2)\n",
    "print(\"D: \",D)\n",
    "E=torch.max(C,D)\n",
    "print(E)\n",
    "print(\"E shape:\" ,E.shape)"
   ]
  },
  {
   "cell_type": "code",
   "execution_count": 17,
   "metadata": {},
   "outputs": [
    {
     "name": "stdout",
     "output_type": "stream",
     "text": [
      "tensor([[0],\n",
      "        [1],\n",
      "        [2],\n",
      "        [3],\n",
      "        [4],\n",
      "        [5]])\n",
      "torch.Size([6, 1])\n"
     ]
    }
   ],
   "source": [
    "A=torch.arange(6)\n",
    "\n",
    "A=A[:,None]\n",
    "print(A)\n",
    "print(A.shape)"
   ]
  },
  {
   "cell_type": "code",
   "execution_count": 18,
   "metadata": {},
   "outputs": [],
   "source": [
    "#Iou计算\n",
    "#@save\n",
    "\n",
    "#首先这个输入定义为2维度\n",
    "def box_iou(boxes1, boxes2):\n",
    "    \"\"\"计算两个锚框或边界框列表中成对的交并比\"\"\"\n",
    "    box_area = lambda boxes: ((boxes[:, 2] - boxes[:, 0]) *\n",
    "                              (boxes[:, 3] - boxes[:, 1]))\n",
    "    # boxes1,boxes2,areas1,areas2的形状:\n",
    "    # boxes1：(boxes1的数量,4),   xmin,ymin,xmax,ymax\n",
    "    # boxes2：(boxes2的数量,4),\n",
    "    # areas1：(boxes1的数量,),\n",
    "    # areas2：(boxes2的数量,)   \n",
    "    areas1 = box_area(boxes1)\n",
    "    areas2 = box_area(boxes2)\n",
    "    # inter_upperlefts,inter_lowerrights,inters的形状:\n",
    "    # (boxes1的数量,boxes2的数量,2)\n",
    "    inter_upperlefts = torch.max(boxes1[:, None, :2], boxes2[:, :2])\n",
    "#boxes1[:, None, :2]  为[anchor_num,1,2]\n",
    "#boxes2[class_num,2] 也可以是[1,class_num,2]\n",
    "#inter_upperlefts [anchor_num,class_num,2]\n",
    "\n",
    "    inter_lowerrights = torch.min(boxes1[:, None, 2:], boxes2[:, 2:])\n",
    "\n",
    "#inter_lowerrights [anchor_num,class_num,2]\n",
    "    inters = (inter_lowerrights - inter_upperlefts).clamp(min=0)\n",
    "    # inter_areasandunion_areas的形状:(boxes1的数量,boxes2的数量)\n",
    "    inter_areas = inters[:, :, 0] * inters[:, :, 1]\n",
    "    #这个地方选出了0，inters[:,:,0].shape 为【anchor_num,class_num】\n",
    "    union_areas = areas1[:, None] + areas2 - inter_areas\n",
    "\n",
    "    #这里再次用到了广播机制\n",
    "    return inter_areas / union_areas\n",
    "\n",
    "#返回【anchorNum,class_num"
   ]
  },
  {
   "cell_type": "markdown",
   "metadata": {},
   "source": [
    "将正式框赋值给锚框"
   ]
  },
  {
   "cell_type": "code",
   "execution_count": 35,
   "metadata": {},
   "outputs": [
    {
     "name": "stdout",
     "output_type": "stream",
     "text": [
      "tensor([-1, -1, -1, -1, -1, -1, -1, -1, -1, -1])\n",
      "torch.Size([10])\n",
      "1\n",
      "1\n",
      "tensor([[0.8248],\n",
      "        [0.8070],\n",
      "        [0.5603],\n",
      "        [0.3608],\n",
      "        [0.5355],\n",
      "        [0.9579],\n",
      "        [0.6616],\n",
      "        [0.7839],\n",
      "        [0.8681],\n",
      "        [0.5668]])\n"
     ]
    }
   ],
   "source": [
    "A=torch.full((10,),-1,dtype=torch.long)\n",
    "print(A)\n",
    "print(A.shape)\n",
    "print(A.dim())\n",
    "B=torch.rand(10)\n",
    "print(B.dim())\n",
    "C=torch.rand(10).reshape(10,1)\n",
    "print(C)\n"
   ]
  },
  {
   "cell_type": "code",
   "execution_count": 38,
   "metadata": {},
   "outputs": [
    {
     "name": "stdout",
     "output_type": "stream",
     "text": [
      "tensor([[ 0,  1,  2,  3],\n",
      "        [ 4,  5,  6,  7],\n",
      "        [ 8,  9, 10, 11]])\n",
      "torch.return_types.max(\n",
      "values=tensor([ 8,  9, 10, 11]),\n",
      "indices=tensor([2, 2, 2, 2]))\n",
      "tensor([12, 15, 18, 21])\n"
     ]
    }
   ],
   "source": [
    "A=torch.arange(12).reshape(3,4)\n",
    "print(A)    \n",
    "print(A.max(dim=0))\n",
    "print(A.sum(dim=0))"
   ]
  },
  {
   "cell_type": "code",
   "execution_count": 44,
   "metadata": {},
   "outputs": [
    {
     "name": "stdout",
     "output_type": "stream",
     "text": [
      "tensor([ True,  True, False,  True, False, False,  True])\n"
     ]
    },
    {
     "data": {
      "text/plain": [
       "tensor([0, 1, 3, 6])"
      ]
     },
     "execution_count": 44,
     "metadata": {},
     "output_type": "execute_result"
    }
   ],
   "source": [
    "A=torch.tensor([1,2,4,2,5,8,2])\n",
    "\n",
    "print(A<=3)\n",
    "\n",
    "torch.nonzero(A <=3).reshape(-1)"
   ]
  },
  {
   "cell_type": "code",
   "execution_count": 51,
   "metadata": {},
   "outputs": [
    {
     "name": "stdout",
     "output_type": "stream",
     "text": [
      "tensor([[0.5088, 0.2500, 0.7676, 0.1080],\n",
      "        [0.2566, 0.9097, 0.4777, 0.8445],\n",
      "        [0.9234, 0.0722, 0.3108, 0.4472]])\n",
      "tensor(8)\n"
     ]
    }
   ],
   "source": [
    "A=torch.rand(12).reshape(3,4)\n",
    "print(A)\n",
    "print(torch.argmax(A))"
   ]
  },
  {
   "cell_type": "code",
   "execution_count": 58,
   "metadata": {},
   "outputs": [
    {
     "name": "stdout",
     "output_type": "stream",
     "text": [
      "tensor([0, 0, 0, 0, 0, 0, 0, 0, 0, 0, 0, 0])\n",
      "tensor([100,   0,   0, 200,   0,   0,   0,   0,   0,   0,   0,   0])\n"
     ]
    }
   ],
   "source": [
    "A=torch.zeros(12,dtype=torch.long)\n",
    "print(\n",
    "    A\n",
    ")\n",
    "B=torch.tensor([0,3],dtype=torch.long)\n",
    "C=torch.tensor([100,200],dtype=torch.long)\n",
    "A[B]=C\n",
    "print(A)"
   ]
  },
  {
   "cell_type": "code",
   "execution_count": 59,
   "metadata": {},
   "outputs": [],
   "source": [
    "#@save\n",
    "def assign_anchor_to_bbox(ground_truth, anchors, device, iou_threshold=0.5):\n",
    "    #ground_truth 真实框\n",
    "    #anchors 所有的锚框\n",
    "    \"\"\"将最接近的真实边界框分配给锚框\"\"\"\n",
    "    num_anchors, num_gt_boxes = anchors.shape[0], ground_truth.shape[0]\n",
    "    #num_anchors 为锚框的个数，num_gt_boxes为真实框的个数\n",
    "    # 位于第i行和第j列的元素x_ij是锚框i和真实边界框j的IoU\n",
    "    jaccard = box_iou(anchors, ground_truth)\n",
    "    #返回的是（anchors_num,ground_truth_num) 的Shape；\n",
    "\n",
    "    # 对于每个锚框，分配的真实边界框的张量\n",
    "    anchors_bbox_map = torch.full((num_anchors,), -1, dtype=torch.long,\n",
    "                                  device=device)\n",
    "    #这个地方的anchors_bbox_map是一个一维度tensor; 个数为所有anchor的个数\n",
    "\n",
    "\n",
    "    # 根据阈值，决定是否分配真实边界框\n",
    "    max_ious, indices = torch.max(jaccard, dim=1)\n",
    "    #这里横向的做最大值计算，并返回最大值与Index；  单个锚框与各个ground_truth的最大值；\n",
    "\n",
    "\n",
    "    anc_i = torch.nonzero(max_ious >= iou_threshold).reshape(-1)\n",
    "\n",
    "    #这里返回max_ious中满足max_ious>=iou_threshold情况下的索引列表\n",
    "\n",
    "    box_j = indices[max_ious >= iou_threshold]\n",
    "\n",
    "    #这里返回类别的索引；\n",
    "\n",
    "\n",
    "    anchors_bbox_map[anc_i] = box_j   #这个地方实际把每个anchor 对应的最大类赋值； 通过后续的更正，有可能需要更改，box_j有可能会变成一行中第二大的那个数；\n",
    "\n",
    "    #保存每个anchor对应的最大类别\n",
    "\n",
    "\n",
    "    col_discard = torch.full((num_anchors,), -1)\n",
    "    row_discard = torch.full((num_gt_boxes,), -1)\n",
    "\n",
    "    for _ in range(num_gt_boxes):\n",
    "        max_idx = torch.argmax(jaccard)\n",
    "        box_idx = (max_idx % num_gt_boxes).long()\n",
    "        anc_idx = (max_idx / num_gt_boxes).long()\n",
    "        anchors_bbox_map[anc_idx] = box_idx\n",
    "        jaccard[:, box_idx] = col_discard\n",
    "        jaccard[anc_idx, :] = row_discard\n",
    "    return anchors_bbox_map\n",
    "\n",
    "#返回一个一维tensor ；每个真是框赋值给"
   ]
  },
  {
   "cell_type": "code",
   "execution_count": 66,
   "metadata": {},
   "outputs": [
    {
     "name": "stdout",
     "output_type": "stream",
     "text": [
      "tensor([[ 0.0000,  1.0000,  2.0000,  3.0000,  0.7552,  0.8066,  0.9338,  0.1206],\n",
      "        [ 4.0000,  5.0000,  6.0000,  7.0000,  0.9740,  0.1821,  0.6149,  0.8341],\n",
      "        [ 8.0000,  9.0000, 10.0000, 11.0000,  0.9786,  0.3828,  0.4389,  0.7362]])\n",
      "tensor([[ 0.0000,  1.0000,  2.0000,  3.0000,  0.7552,  0.8066,  0.9338,  0.1206],\n",
      "        [ 4.0000,  5.0000,  6.0000,  7.0000,  0.9740,  0.1821,  0.6149,  0.8341],\n",
      "        [ 8.0000,  9.0000, 10.0000, 11.0000,  0.9786,  0.3828,  0.4389,  0.7362]])\n"
     ]
    }
   ],
   "source": [
    "A=torch.arange(12).reshape(3,4)\n",
    "B=torch.rand(12).reshape(3,4)\n",
    "print(torch.cat([A,B],dim=1))\n",
    "print(torch.cat([A,B],axis=1))"
   ]
  },
  {
   "cell_type": "code",
   "execution_count": 60,
   "metadata": {},
   "outputs": [],
   "source": [
    "#下面的例子，是anchor框，与真实的框偏移量的计算；\n",
    "#@save\n",
    "def offset_boxes(anchors, assigned_bb, eps=1e-6):\n",
    "    \"\"\"对锚框偏移量的转换\"\"\"\n",
    "    c_anc = d2l.box_corner_to_center(anchors)\n",
    "    c_assigned_bb = d2l.box_corner_to_center(assigned_bb)\n",
    "\n",
    "    offset_xy = 10 * (c_assigned_bb[:, :2] - c_anc[:, :2]) / c_anc[:, 2:]\n",
    "    offset_wh = 5 * torch.log(eps + c_assigned_bb[:, 2:] / c_anc[:, 2:])\n",
    "\n",
    "    offset = torch.cat([offset_xy, offset_wh], axis=1)\n",
    "\n",
    "    #最后返回Shape 为(num_anchor,4)\n",
    "\n",
    "    return offset"
   ]
  },
  {
   "cell_type": "code",
   "execution_count": null,
   "metadata": {},
   "outputs": [],
   "source": [
    "#@save\n",
    "def multibox_target(anchors, labels):\n",
    "    \"\"\"使用真实边界框标记锚框\"\"\"\n",
    "    batch_size, anchors = labels.shape[0], anchors.squeeze(0)\n",
    "    batch_offset, batch_mask, batch_class_labels = [], [], []\n",
    "\n",
    "    device, num_anchors = anchors.device, anchors.shape[0]\n",
    "    \n",
    "    for i in range(batch_size):\n",
    "        label = labels[i, :, :]\n",
    "        anchors_bbox_map = assign_anchor_to_bbox(\n",
    "            label[:, 1:], anchors, device)\n",
    "        bbox_mask = ((anchors_bbox_map >= 0).float().unsqueeze(-1)).repeat(\n",
    "            1, 4)\n",
    "        # 将类标签和分配的边界框坐标初始化为零\n",
    "        class_labels = torch.zeros(num_anchors, dtype=torch.long,\n",
    "                                   device=device)\n",
    "        assigned_bb = torch.zeros((num_anchors, 4), dtype=torch.float32,\n",
    "                                  device=device)\n",
    "        # 使用真实边界框来标记锚框的类别。\n",
    "        # 如果一个锚框没有被分配，标记其为背景（值为零）\n",
    "        indices_true = torch.nonzero(anchors_bbox_map >= 0)\n",
    "        bb_idx = anchors_bbox_map[indices_true]\n",
    "        class_labels[indices_true] = label[bb_idx, 0].long() + 1\n",
    "        assigned_bb[indices_true] = label[bb_idx, 1:]\n",
    "        # 偏移量转换\n",
    "        offset = offset_boxes(anchors, assigned_bb) * bbox_mask\n",
    "        batch_offset.append(offset.reshape(-1))\n",
    "        batch_mask.append(bbox_mask.reshape(-1))\n",
    "        batch_class_labels.append(class_labels)\n",
    "    bbox_offset = torch.stack(batch_offset)\n",
    "    bbox_mask = torch.stack(batch_mask)\n",
    "    class_labels = torch.stack(batch_class_labels)\n",
    "    return (bbox_offset, bbox_mask, class_labels)"
   ]
  }
 ],
 "metadata": {
  "kernelspec": {
   "display_name": "Niko",
   "language": "python",
   "name": "python3"
  },
  "language_info": {
   "codemirror_mode": {
    "name": "ipython",
    "version": 3
   },
   "file_extension": ".py",
   "mimetype": "text/x-python",
   "name": "python",
   "nbconvert_exporter": "python",
   "pygments_lexer": "ipython3",
   "version": "3.11.4"
  },
  "orig_nbformat": 4
 },
 "nbformat": 4,
 "nbformat_minor": 2
}
